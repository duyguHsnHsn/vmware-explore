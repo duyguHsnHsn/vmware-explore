{
 "cells": [
  {
   "cell_type": "markdown",
   "id": "58590308-a428-43c0-9ff4-541da37550f7",
   "metadata": {},
   "source": [
    "### Objective:\n",
    "\n",
    "1. **Retrieve Data:** - Extract data from the specified URL using pandas.\n",
    "\n",
    "2. **Data Cleansing:**  - Eliminate records associated with 'testuser'.\n",
    "\n",
    "3. **Score Classification:** - Assign scores into predefined categories for clarity.\n",
    "\n",
    "4. **Data Ingestion:** - Use VDK job_input to ingest the organized data."
   ]
  },
  {
   "cell_type": "code",
   "execution_count": null,
   "id": "89c4070b-e5fc-4bce-a168-adb70f35a29c",
   "metadata": {},
   "outputs": [],
   "source": [
    "\"\"\"\n",
    "vdk.plugin.ipython extension introduces a magic command for Jupyter.\n",
    "The command enables the user to load VDK for the current notebook.\n",
    "VDK provides the job_input API, which has methods for:\n",
    "    * executing queries to an OLAP database;\n",
    "    * ingesting data into a database;\n",
    "    * processing data into a database.\n",
    "Type help(job_input) to see its documentation.\n",
    "\n",
    "\"\"\"\n",
    "%reload_ext vdk.plugin.ipython\n",
    "%reload_VDK\n",
    "job_input = VDK.get_initialized_job_input()"
   ]
  },
  {
   "cell_type": "code",
   "execution_count": null,
   "id": "36137500-9136-4083-8b04-073ed84e2d4c",
   "metadata": {
    "tags": []
   },
   "outputs": [],
   "source": [
    "import pandas as pd"
   ]
  },
  {
   "cell_type": "code",
   "execution_count": null,
   "id": "7f51159d-c850-4e3b-82d9-636b044d3fa3",
   "metadata": {
    "tags": []
   },
   "outputs": [],
   "source": [
    "from helper import * "
   ]
  },
  {
   "cell_type": "code",
   "execution_count": null,
   "id": "77ac4632-072d-4a0d-90eb-879a49cec703",
   "metadata": {
    "tags": []
   },
   "outputs": [],
   "source": [
    "url = \"https://raw.githubusercontent.com/duyguHsnHsn/nps-data/main/nps_data.csv\"\n",
    "df = pd.read_csv(url)"
   ]
  },
  {
   "cell_type": "code",
   "execution_count": null,
   "id": "9b6819af-f2ca-4518-a2a3-eb31e8da8d38",
   "metadata": {
    "tags": []
   },
   "outputs": [],
   "source": [
    "df = df[df['User'] != 'testuser']"
   ]
  },
  {
   "cell_type": "code",
   "execution_count": null,
   "id": "5c11f750-e319-453d-b4ab-cb4b4adfc861",
   "metadata": {
    "tags": []
   },
   "outputs": [],
   "source": [
    "df.loc[:, 'Type'] = df['Score'].apply(classify_score)"
   ]
  },
  {
   "cell_type": "code",
   "execution_count": null,
   "id": "f0c75c02-0c6f-4016-a2b7-9fb94e9b6890",
   "metadata": {},
   "outputs": [],
   "source": [
    "visualize_data(df)"
   ]
  },
  {
   "cell_type": "code",
   "execution_count": null,
   "id": "6e3f8ae0-4a5f-43b1-9261-f06c59aaf63b",
   "metadata": {
    "tags": []
   },
   "outputs": [],
   "source": [
    "# Sending data for ingestion\n",
    "job_input.send_tabular_data_for_ingestion(\n",
    "    df.itertuples(index=False),\n",
    "    destination_table=\"nps_data\",\n",
    "    column_names=df.columns.tolist()\n",
    ")"
   ]
  },
  {
   "cell_type": "code",
   "execution_count": null,
   "id": "dcb88be1-5c47-429f-9c10-0ce8d8ca5045",
   "metadata": {},
   "outputs": [],
   "source": [
    "%%vdksql\n",
    "SELECT * FROM nps_data"
   ]
  },
  {
   "cell_type": "code",
   "execution_count": null,
   "id": "5031ae91-84a1-4af2-9eaa-ed142d2ee969",
   "metadata": {
    "tags": [
     "vdk"
    ]
   },
   "outputs": [],
   "source": [
    "print(\"Data processing complete.\")"
   ]
  }
 ],
 "metadata": {
  "kernelspec": {
   "display_name": "Python 3 (ipykernel)",
   "language": "python",
   "name": "python3"
  },
  "language_info": {
   "codemirror_mode": {
    "name": "ipython",
    "version": 3
   },
   "file_extension": ".py",
   "mimetype": "text/x-python",
   "name": "python",
   "nbconvert_exporter": "python",
   "pygments_lexer": "ipython3",
   "version": "3.11.0"
  }
 },
 "nbformat": 4,
 "nbformat_minor": 5
}
