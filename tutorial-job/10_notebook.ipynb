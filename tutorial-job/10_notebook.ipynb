{
 "cells": [
  {
   "cell_type": "markdown",
   "id": "3f3d0b4f-6e15-4f7e-97ef-963daeabca18",
   "metadata": {},
   "source": [
    "## Productionizing Notebook Tutorial\n",
    "This notebook provides a guide on how to make your notebook code ready for production using Versatile Data Kit."
   ]
  },
  {
   "cell_type": "markdown",
   "id": "40a3440a-736e-4671-a0aa-53db75406a75",
   "metadata": {},
   "source": [
    "### 1.1 Good to Know Before You Start\n",
    "This tutorial aims to be user-friendly and easy to follow. \n",
    "However, you will have a smoother experience if you already have some familiarity with the following topics:\n",
    "- **Python and SQL**: Understanding of basic commands and queries.\n",
    "- **Data Concepts**: Knowledge of simple data modeling and API usage.\n",
    "- **Tools**: Comfort using Jupyter Notebook.\n",
    "\n"
   ]
  },
  {
   "cell_type": "markdown",
   "id": "b3087fdb-cbe5-4582-a4b1-cdd706415568",
   "metadata": {},
   "source": [
    "### 1.2 Useful notebook shortcuts\n",
    "* Click the **Play icon** in the left gutter of the cell;\n",
    "* Type **Cmd/Ctrl+Enter** to run the cell in place;\n",
    "* Type **Shift+Enter** to run the cell and move focus to the next cell (adding one if none exists); or\n",
    "* Type **Alt+Enter** to run the cell and insert a new code cell immediately below it.\n",
    "\n",
    "There are additional options for running some or all cells in the **Runtime** menu on top."
   ]
  },
  {
   "cell_type": "markdown",
   "id": "c456f5f7-fc97-4538-bad5-df149fa09a33",
   "metadata": {},
   "source": [
    "### 2. Objectives we will be following\n",
    "1. **Retrieve Data:** - Extract data from the specified URL using pandas.\n",
    "\n",
    "2. **Data Cleansing:**  - Eliminate records associated with 'testuser'.\n",
    "\n",
    "3. **Score Classification:** - Assign scores into predefined categories for clarity.\n",
    "\n",
    "4. **Data Ingestion:** - Use VDK job_input to ingest the organized data."
   ]
  },
  {
   "cell_type": "markdown",
   "id": "4c1c4929-6779-4238-86f7-990efbe6d70e",
   "metadata": {
    "tags": []
   },
   "source": [
    "### 3. Initialize new VDK job (input)"
   ]
  },
  {
   "cell_type": "code",
   "execution_count": null,
   "id": "a45b5d86-9801-4ab3-ae28-c2a0ab1f3b37",
   "metadata": {},
   "outputs": [],
   "source": [
    "\"\"\"\n",
    "vdk.plugin.ipython extension introduces a magic command for Jupyter.\n",
    "The command enables the user to load VDK for the current notebook.\n",
    "VDK provides the job_input API, which has methods for:\n",
    "    * executing queries to an OLAP database;\n",
    "    * ingesting data into a database;\n",
    "    * processing data into a database.\n",
    "Type help(job_input) to see its documentation.\n",
    "\n",
    "\"\"\"\n",
    "\n",
    "%reload_ext vdk.plugin.ipython\n",
    "%reload_VDK\n",
    "job_input = VDK.get_initialized_job_input()"
   ]
  },
  {
   "cell_type": "markdown",
   "id": "7a7924b0-a85a-4a7f-8373-52a9037bc203",
   "metadata": {},
   "source": [
    "### 3.1 Explore what you can do (Task 1)\n",
    "For full guide on how to use VDK Jupyter refer to Getting Started Notebook."
   ]
  },
  {
   "cell_type": "code",
   "execution_count": null,
   "id": "deba4085-d4ef-4804-81c2-9df8814a1074",
   "metadata": {},
   "outputs": [],
   "source": [
    "# See all methods with help:\n",
    "help(job_input)"
   ]
  },
  {
   "cell_type": "markdown",
   "id": "61bf12c5-8e62-4fda-9873-e7609d4ff004",
   "metadata": {},
   "source": [
    "### 4. Start working on the objectives"
   ]
  },
  {
   "cell_type": "markdown",
   "id": "85a36fcb-1cfc-4c54-8579-e6c58a99d16a",
   "metadata": {},
   "source": [
    "#### 4.1 Meet the first challenge in Productionizing Notebooks\n",
    "Reproducibility poses a major challenge in notebooks because of non-linear code execution,leading to hidden dependencies and altered states when cells are run out of sequence.\n",
    "Continue with the code below to verify this for yourself!"
   ]
  },
  {
   "cell_type": "markdown",
   "id": "0ee997d4-e4f4-40d8-b93e-a1110f7da207",
   "metadata": {},
   "source": [
    "#### 4.2 Retrieve Data"
   ]
  },
  {
   "cell_type": "code",
   "execution_count": null,
   "id": "36137500-9136-4083-8b04-073ed84e2d4c",
   "metadata": {
    "tags": []
   },
   "outputs": [],
   "source": [
    "import pandas as pd"
   ]
  },
  {
   "cell_type": "code",
   "execution_count": null,
   "id": "77ac4632-072d-4a0d-90eb-879a49cec703",
   "metadata": {
    "tags": []
   },
   "outputs": [],
   "source": [
    "# Reading the CSV file from the provided URL and storing the data in a DataFrame 'df'\n",
    "url = \"https://raw.githubusercontent.com/duyguHsnHsn/nps-data/main/nps_data.csv\"\n",
    "df = pd.read_csv(url)"
   ]
  },
  {
   "cell_type": "code",
   "execution_count": null,
   "id": "cf626bd6-f099-4ab3-b954-22eebea3bcca",
   "metadata": {},
   "outputs": [],
   "source": [
    "# Check the DataFrame\n",
    "df"
   ]
  },
  {
   "cell_type": "markdown",
   "id": "8dd752ad-f4fb-48ac-a088-d49a2c32187c",
   "metadata": {},
   "source": [
    "#### 4.2 Data Cleansing"
   ]
  },
  {
   "cell_type": "code",
   "execution_count": null,
   "id": "9b6819af-f2ca-4518-a2a3-eb31e8da8d38",
   "metadata": {
    "tags": []
   },
   "outputs": [],
   "source": [
    "# Cleaning the DataFrame: Removing all records associated with 'testuser'\n",
    "df = df[df['User'] != 'testuser']\n",
    "# Rerun the data check that was performed in the previous step to validate data cleanliness"
   ]
  },
  {
   "cell_type": "markdown",
   "id": "fa62cbd6-c390-4b1c-9b93-8a1ececd75b8",
   "metadata": {},
   "source": [
    "#### 4.3 Check our code for reproducibility problem\n",
    "Running the data check twice has completely overwritten the information from the first execution!\n",
    "\n",
    "\n",
    "Running the data check cell twice didn’t cause issues since it was a mere print statement, but had it been a data transformation, it could have affected the data cleaning, demonstrating how notebooks can complicate achieving code reproducibility."
   ]
  },
  {
   "cell_type": "markdown",
   "id": "458479b9-b775-4976-967f-40b7502c03c8",
   "metadata": {},
   "source": [
    "#### 4.4 Solve the reproducibility problem\n",
    "Introduction of “VDK cells” by VDK (tagged with \"vdk\").\n",
    "\n",
    "  - **Implementation**:\n",
    "    - Assign a \"vdk\" tag and a specific number to a cell.\n",
    "    - The number dictates the order in which the cell will be executed in production.\n",
    "    \n",
    "  - **Benefits**:\n",
    "    - Ensures only the tagged cells are executed, and in the determined sequence.\n",
    "    - Resolves the reproducibility issue by clearly defining the execution order.\n",
    "    \n",
    "  - **How your notebooks should look like and how to tag cells**\n",
    "    <img src=\"../images/reproducibility_solution.png\" width=\"1000\" length=\"546\" alt=\"Run a job\">\n",
    "\n"
   ]
  },
  {
   "cell_type": "markdown",
   "id": "0edfc1a4-dd31-4650-a635-b4c4eceee680",
   "metadata": {},
   "source": [
    "#### 4.5 Meet the second challenge in Productionizing Notebooks\n",
    "Excessive irrelevant code, including unused print statements and unrelated snippets, can be found in notebooks. In the development phase, it's common to include a mixture of code: from critical algorithms to random print statements meant for quick debugging or data checks. This is incredibly useful during the experimental stages, allowing for easy insights and iterative changes. However, when it's time to transition to production, this bag full of relevant and random code becomes problematic. "
   ]
  },
  {
   "cell_type": "markdown",
   "id": "977a67fd-9ee4-4506-b48f-e48ab2dff0fd",
   "metadata": {},
   "source": [
    "#### 4.6 Score Classification:"
   ]
  },
  {
   "cell_type": "code",
   "execution_count": null,
   "id": "7f51159d-c850-4e3b-82d9-636b044d3fa3",
   "metadata": {
    "tags": []
   },
   "outputs": [],
   "source": [
    "# Import all functions from the 'helper' module,\n",
    "# which contains the necessary logic for classification and data visualization\n",
    "from helper import *"
   ]
  },
  {
   "cell_type": "code",
   "execution_count": null,
   "id": "5c11f750-e319-453d-b4ab-cb4b4adfc861",
   "metadata": {
    "tags": []
   },
   "outputs": [],
   "source": [
    "# Apply the classification function to the 'Score' column to determine the 'Type'\n",
    "# Note: this cell might fail on its first run. \n",
    "# If it does, simply run it again, and it should work as expected.\n",
    "df.loc[:, 'Type'] = df['Score'].apply(classify_score)"
   ]
  },
  {
   "cell_type": "code",
   "execution_count": null,
   "id": "a1418ac5-5a1c-450e-9e52-83dfed601f88",
   "metadata": {},
   "outputs": [],
   "source": [
    "# Check the DataFrame\n",
    "df"
   ]
  },
  {
   "cell_type": "code",
   "execution_count": null,
   "id": "f0c75c02-0c6f-4016-a2b7-9fb94e9b6890",
   "metadata": {},
   "outputs": [],
   "source": [
    "# Visualise the types of users\n",
    "visualize_data(df)"
   ]
  },
  {
   "cell_type": "markdown",
   "id": "7109f029-19bd-4664-9161-8178d40b60ae",
   "metadata": {},
   "source": [
    "#### 4.7 Data Ingestion"
   ]
  },
  {
   "cell_type": "code",
   "execution_count": null,
   "id": "6e3f8ae0-4a5f-43b1-9261-f06c59aaf63b",
   "metadata": {
    "tags": []
   },
   "outputs": [],
   "source": [
    "# Sending data for ingestion \n",
    "job_input.send_tabular_data_for_ingestion(\n",
    "    df.itertuples(index=False),\n",
    "    destination_table=\"nps_data\",\n",
    "    column_names=df.columns.tolist()\n",
    ")"
   ]
  },
  {
   "cell_type": "markdown",
   "id": "2999a409-fec3-4c0f-9d82-c04646e38369",
   "metadata": {},
   "source": [
    "#### 4.8 Check for irrelevant for production code\n",
    "Our primary goals were to classify the users and ingest our data. Printing the DataFrame and visualizing the types were not necessary steps. \n",
    "Including these cells in production could potentially slow down our code, as they are not essential to achieving our objectives."
   ]
  },
  {
   "cell_type": "markdown",
   "id": "bcc80c92-a49b-433d-a108-ef577a349426",
   "metadata": {},
   "source": [
    "#### 4.9 Solve the irrelevant code problem\n",
    "- **Simple Solution**: Delete the irrelevant cells.\n",
    "- **VDK’s Alternative**:\n",
    "  - **Introduction of “Non VDK Cells”**:\n",
    "    - Cells without the \"vdk\" tag.\n",
    "  - **Implementation**:\n",
    "    - Leave the cell untagged and in its default state.\n",
    "  - **Benefits**:\n",
    "    - **Exclusion in Production**: These cells won’t be executed in production, maintaining efficiency.\n",
    "    - **Available for Development**: The cells remain accessible for quick checks during development since they are not removed.\n",
    "  - **How your notebooks should look like**\n",
    "    <img src=\"../images/irrelevant_code_solution.png\" width=\"1000\" length=\"546\" alt=\"Run a job\">"
   ]
  },
  {
   "cell_type": "code",
   "execution_count": null,
   "id": "5031ae91-84a1-4af2-9eaa-ed142d2ee969",
   "metadata": {
    "tags": [
     "vdk"
    ]
   },
   "outputs": [],
   "source": [
    "print(\"Data processing complete.\")"
   ]
  },
  {
   "cell_type": "markdown",
   "id": "1254cd2e-4fc2-492d-bee8-92b29b5a9f69",
   "metadata": {},
   "source": [
    "### 5. We are ready with out objectives\n",
    "Congratulations! You have successfully ingested the required data.\n",
    "\n",
    "To verify the ingestion process, you can utilize the `vdksql` cell magic command."
   ]
  },
  {
   "cell_type": "code",
   "execution_count": null,
   "id": "dcb88be1-5c47-429f-9c10-0ce8d8ca5045",
   "metadata": {},
   "outputs": [],
   "source": [
    "%%vdksql\n",
    "SELECT * FROM nps_data"
   ]
  },
  {
   "cell_type": "markdown",
   "id": "5c7fd70e-42c9-48ec-8c86-b8d5c0dc8e4f",
   "metadata": {
    "tags": []
   },
   "source": [
    "### 6. Other problems linked to productionising notebooks\n",
    "\n",
    "\n"
   ]
  },
  {
   "cell_type": "markdown",
   "id": "267eae70-e4b9-4e45-80ab-5826a36da2cb",
   "metadata": {},
   "source": [
    "#### 6.1 Testing \n",
    "When we're working with Jupyter Notebooks, testing can be a bit tricky. Unlike some other coding tools, notebooks don't have straightforward ways to test the code we write. There aren't well-organized methods or frameworks specifically designed for testing notebooks. This means it's not as easy to check if our code is doing what it's supposed to do. We might have to come up with our own solutions, which can sometimes be a bit messy and not as reliable.  \n",
    "\n",
    "  ##### VDK’s Solution for Easier End-to-End Testing\n",
    "\n",
    "- **VDK Run Command**: This tool facilitates end-to-end (e2e) testing capabilities.\n",
    "  - **Execution Simplicity**: Run your code as if it's in the production environment with a simple command.\n",
    "  - **Error Handling**: Get detailed error messages and stack traces for troubleshooting if the code fails.\n",
    "  - **Success Confirmation**: Receive success messages and logs for successful executions.\n",
    " \n",
    " For guidance on running jobs, consult the [Getting Started Guide](./getting-started.ipynb).\n"
   ]
  },
  {
   "cell_type": "markdown",
   "id": "91ac1c80-5a1d-42da-82c7-b23266a92dfa",
   "metadata": {},
   "source": [
    "#### 6.2 Version Control\n",
    "Version control with notebooks can be complex due to their JSON-based format which might include too much noise in it. \n",
    " ##### VDK’s Solution\n",
    " - **Noise Reduction**: VDK cleanses the notebook's JSON by removing non-essential elements, such as execution counts and outputs, which typically cause \"noise.\"\n",
    "- **Seamless Integration with Git**: With VDK's integration, your code is committed to Git on deployment in a cleaner state, devoid of unnecessary metadata, simplifying version control and reducing clutter."
   ]
  },
  {
   "cell_type": "markdown",
   "id": "c8006c45-4357-4e52-a83e-e3e36aeb7434",
   "metadata": {
    "tags": []
   },
   "source": [
    "# Congratulations! 🎉\n",
    "\n",
    "You've successfully completed the Productionizing Jupyter Notebooks with VDK tutorial! We hope you found this tutorial useful.\n",
    "\n",
    "## Your Feedback Matters!\n",
    "\n",
    "We continuously strive to improve and your feedback is invaluable to us. Please take a moment to complete our survey. It will only take a few minutes.\n",
    "\n",
    "### [**👉 Complete the Survey Here 👈**](to be added)\n",
    "\n",
    "Thank you for participating in this tutorial!\n"
   ]
  },
  {
   "cell_type": "code",
   "execution_count": null,
   "id": "f046f191-8fa5-41a6-bcb4-fc2c9856b2d3",
   "metadata": {},
   "outputs": [],
   "source": []
  }
 ],
 "metadata": {
  "kernelspec": {
   "display_name": "Python 3 (ipykernel)",
   "language": "python",
   "name": "python3"
  },
  "language_info": {
   "codemirror_mode": {
    "name": "ipython",
    "version": 3
   },
   "file_extension": ".py",
   "mimetype": "text/x-python",
   "name": "python",
   "nbconvert_exporter": "python",
   "pygments_lexer": "ipython3",
   "version": "3.11.0"
  }
 },
 "nbformat": 4,
 "nbformat_minor": 5
}
